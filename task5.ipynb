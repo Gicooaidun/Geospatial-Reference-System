{
 "cells": [
  {
   "cell_type": "code",
   "execution_count": 2,
   "metadata": {},
   "outputs": [],
   "source": [
    "import math"
   ]
  },
  {
   "cell_type": "code",
   "execution_count": 3,
   "metadata": {},
   "outputs": [
    {
     "name": "stdout",
     "output_type": "stream",
     "text": [
      "Geodetic coordinates of the second point:\n",
      "ϕ2: 0.6394723347288623 degrees\n",
      "λ2: 0.6352310291253256 degrees\n",
      "α21: 45.0035449478708 degrees\n"
     ]
    }
   ],
   "source": [
    "def forward_geodetic_task(phi1, lambda1, s, alpha12, a, b):\n",
    "    f = (a - b) / a\n",
    "    # parametric latitude of point P1\n",
    "    beta1 = math.atan((1 - f) * math.tan(phi1))\n",
    "    # angular distance on a sphere from the equator to point P1\n",
    "    sigma1 = math.atan((math.tan(beta1) / math.cos(alpha12)))\n",
    "    # α azimuth of a geodetic line on the equator\n",
    "    sin_alpha = math.cos(beta1) * math.sin(alpha12)\n",
    "    cos2_alpha = 1 - sin_alpha ** 2\n",
    "    #  geodetic line constant u2\n",
    "    u2 = cos2_alpha * ((a ** 2 - b ** 2) / (b ** 2))\n",
    "    # Vincenty constant A\n",
    "    A = 1 + (u2 / 16384) * (4096 + u2 * (-768 + u2 * (320 - 175 * u2)))\n",
    "    # Vincenty constant B\n",
    "    B = (u2 / 1024) * (256 + u2 * (-128 + u2 * (74 - 47 * u2)))\n",
    "    sigma = s / (b * A)\n",
    "    \n",
    "    while True:\n",
    "        # σm angular distance on the sphere from the equator to the middle of the geodetic line\n",
    "        sigma2m = 2 * sigma1 + sigma\n",
    "        delta_sigma = B * math.sin(sigma) * (math.cos(sigma2m) + (B / 4) * ((math.cos(sigma) * (-1 + 2 * (math.cos(sigma2m))**2)) - (B / 6) * math.cos(sigma2m) * (-3 + 4 * math.sin(sigma) ** 2) * (-3 + 4 * math.cos(sigma2m)**2)))\n",
    "        new_sigma = s / (b * A) + delta_sigma\n",
    "\n",
    "        if abs(new_sigma - sigma) < 1e-12:  \n",
    "            break\n",
    "\n",
    "        sigma = new_sigma\n",
    "\n",
    "    phi2 = math.atan2((math.sin(beta1) * math.cos(sigma) + math.cos(beta1) * math.sin(sigma) * math.cos(alpha12)),((1 - f) * math.sqrt(sin_alpha ** 2 + (math.sin(beta1) * math.sin(sigma) - math.cos(beta1) * math.cos(sigma) * math.cos(alpha12)) ** 2)))\n",
    "    lambda0 = math.atan2(math.sin(sigma) * math.sin(alpha12), (math.cos(beta1) * math.cos(sigma) - math.sin(beta1) * math.sin(sigma) * math.cos(alpha12)))\n",
    "    C = (f / 16) * cos2_alpha * (4 + f * (4 - 3 * cos2_alpha))\n",
    "    L = lambda0 - (1 - C) * f * sin_alpha * (sigma + C * math.sin(sigma) * (math.cos(sigma2m) + C * math.cos(sigma) * (-1 + 2 * (math.cos(sigma2m)**2))))\n",
    "    lambda2 = L + lambda1\n",
    "    alpha21 = math.atan2(sin_alpha, (-math.sin(beta1) * math.sin(sigma) + math.cos(beta1) * math.cos(sigma) * math.cos(alpha12)))\n",
    "\n",
    "    return phi2, lambda2, alpha21\n",
    "\n",
    "\n",
    "phi1 = math.radians(0)  \n",
    "lambda1 = math.radians(0)  \n",
    "s = 100000  \n",
    "alpha12 = math.radians(45)  \n",
    "a = 6378137  \n",
    "b = 6356752.314245  \n",
    "\n",
    "phi2, lambda2, alpha21 = forward_geodetic_task(phi1, lambda1, s, alpha12, a, b)\n",
    "\n",
    "phi2_deg = math.degrees(phi2)\n",
    "lambda2_deg = math.degrees(lambda2)\n",
    "alpha21_deg = math.degrees(alpha21)\n",
    "\n",
    "print(\"Geodetic coordinates of the second point:\")\n",
    "print(f\"ϕ2: {phi2_deg} degrees\")\n",
    "print(f\"λ2: {lambda2_deg} degrees\")\n",
    "print(f\"α21: {alpha21_deg} degrees\")"
   ]
  },
  {
   "cell_type": "code",
   "execution_count": 7,
   "metadata": {},
   "outputs": [
    {
     "name": "stdout",
     "output_type": "stream",
     "text": [
      "Length of the geodetic line (s): 2808771.751172601\n",
      "Azimuth from point 1 to point 2 (alpha12): 113.19545162586098\n",
      "Azimuth from point 2 to point 1 (alpha21): 121.76147972287349\n"
     ]
    }
   ],
   "source": [
    "def inverse_geodetic_problem(phi1, lambda1, phi2, lambda2, a, b):\n",
    "    f = (a - b) / a\n",
    "    #  parametric latitude of first point\n",
    "    beta1 = math.atan((1 - f) * math.tan(phi1))\n",
    "    # parametric latitude of second point\n",
    "    beta2 = math.atan((1 - f) * math.tan(phi2))\n",
    "    # difference in longitude\n",
    "    L = abs(lambda2 - lambda1)\n",
    "    lambda_ = L\n",
    "    \n",
    "    while True:\n",
    "        sin_sigma = math.sqrt((math.cos(beta2) * math.sin(lambda_))**2 + \n",
    "                              (math.cos(beta1) * math.sin(beta2) * math.cos(lambda_))**2)\n",
    "        cos_sigma = math.sin(beta1) * math.sin(beta2) + math.cos(beta1) * math.cos(beta2) * math.cos(lambda_)\n",
    "        # angular distance on sphere between points P1 and P2\n",
    "        sigma = math.atan2(sin_sigma, cos_sigma)\n",
    "        sin_alpha = (math.cos(beta1) * math.cos(beta2) * math.sin(lambda_)) / sin_sigma\n",
    "        cos_alpha2 = 1 - sin_alpha**2\n",
    "        cos_2sigmam = cos_sigma - (2 * math.sin(beta1) * math.sin(beta2) / cos_alpha2)\n",
    "        C = f / 16 * cos_alpha2 * (4 + f * (4 - 3 * cos_alpha2))\n",
    "        lambda_i = L + (1 - C) * f * sin_alpha * (sigma + C * sin_sigma * (cos_2sigmam + C * cos_sigma * (-1 + 2 * cos_2sigmam**2)))\n",
    "        \n",
    "        if abs(lambda_i - lambda_) <= 1e-12:\n",
    "            break\n",
    "        \n",
    "        lambda_ = lambda_i\n",
    "    \n",
    "    u_sq = cos_alpha2 * ((a**2 - b**2) / b**2)\n",
    "    A = 1 + u_sq / 16384 * (4096 + u_sq * (-768 + u_sq * (320 - 175 * u_sq)))\n",
    "    B = u_sq / 1024 * (256 + u_sq * (-128 + u_sq * (74 - 47 * u_sq)))\n",
    "    delta_sigma = B * sin_sigma * (cos_2sigmam + (1/4) * B * (cos_sigma * (-1 + 2 * cos_2sigmam**2) - (1/6) * B * cos_2sigmam * (-3 + 4 * sin_sigma**2) * (-3 + 4 * cos_2sigmam**2)))\n",
    "    s = b * A * (sigma - delta_sigma)\n",
    "    \n",
    "    alpha12 = math.atan2((math.cos(beta2) * math.sin(lambda_)), (math.cos(beta1) * math.sin(beta2) - math.sin(beta1) * math.cos(beta2) * math.cos(lambda_)))\n",
    "    alpha21 = math.atan2((math.cos(beta1) * math.sin(lambda_)), (-math.sin(beta1) * math.cos(beta2) + math.cos(beta1) * math.sin(beta2) * math.cos(lambda_)))\n",
    "    \n",
    "    return s, alpha12, alpha21\n",
    "\n",
    "\n",
    "phi1 = math.radians(52.5200)  \n",
    "lambda1 = math.radians(13.4050)  \n",
    "phi2 = math.radians(48.8566)  \n",
    "lambda2 = math.radians(2.3522)  \n",
    "a = 6378137.0  \n",
    "b = 6356752.3  \n",
    "\n",
    "s, alpha12, alpha21 = inverse_geodetic_problem(phi1, lambda1, phi2, lambda2, a, b)\n",
    "\n",
    "\n",
    "print(\"Length of the geodetic line (s):\", s)\n",
    "print(\"Azimuth from point 1 to point 2 (alpha12):\", math.degrees(alpha12))\n",
    "print(\"Azimuth from point 2 to point 1 (alpha21):\", math.degrees(alpha21))\n"
   ]
  }
 ],
 "metadata": {
  "kernelspec": {
   "display_name": "Python 3",
   "language": "python",
   "name": "python3"
  },
  "language_info": {
   "codemirror_mode": {
    "name": "ipython",
    "version": 3
   },
   "file_extension": ".py",
   "mimetype": "text/x-python",
   "name": "python",
   "nbconvert_exporter": "python",
   "pygments_lexer": "ipython3",
   "version": "3.8.6"
  }
 },
 "nbformat": 4,
 "nbformat_minor": 2
}
