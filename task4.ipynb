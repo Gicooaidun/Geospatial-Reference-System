{
 "cells": [
  {
   "cell_type": "code",
   "execution_count": 1,
   "metadata": {},
   "outputs": [],
   "source": [
    "import math"
   ]
  },
  {
   "cell_type": "code",
   "execution_count": 9,
   "metadata": {},
   "outputs": [],
   "source": [
    "def geodetic_to_cartesian(phi, lam, h):\n",
    "    N = a / math.sqrt(1 - e**2 * math.sin(phi)**2)\n",
    "    X = (N + h) * math.cos(phi) * math.cos(lam)\n",
    "    Y = (N + h) * math.cos(phi) * math.sin(lam)\n",
    "    Z = (N*(1-e**2) + h) * math.sin(phi)\n",
    "    return X, Y, Z"
   ]
  },
  {
   "cell_type": "code",
   "execution_count": 36,
   "metadata": {},
   "outputs": [],
   "source": [
    "def cartesian_to_geodetic(X, Y, Z):\n",
    "    # Initial estimate for h\n",
    "    h = 0.0\n",
    "    rho = math.sqrt(X**2 + Y**2)\n",
    "    phi = math.atan(Z / rho * (1 - e**2)**(-1))\n",
    "    N = a / math.sqrt(1 - e**2 * math.sin(phi)**2)\n",
    "    lam=math.atan2(Y,X)\n",
    "    while True:\n",
    "        phi = math.atan(Z / rho * (1 - e**2 * N/(N+h))**(-1))\n",
    "\n",
    "        N = a / math.sqrt(1 - e**2 * math.sin(phi)**2)\n",
    "        h_new = rho / math.cos(phi) - N\n",
    "\n",
    "        if abs(h_new - h) < 1e-6:\n",
    "            break\n",
    "\n",
    "        h = h_new\n",
    "\n",
    "    return phi, lam, h"
   ]
  },
  {
   "cell_type": "code",
   "execution_count": 37,
   "metadata": {},
   "outputs": [
    {
     "name": "stdout",
     "output_type": "stream",
     "text": [
      "Geodetic to Cartesian:\n",
      "X: 3783304.245963115 Y: 901659.1069999953 Z: 5038298.456401165\n",
      "\n",
      "Cartesian to Geodetic:\n",
      "Latitude (ϕ): 52.52 Height (h): 99.99999996833503\n"
     ]
    }
   ],
   "source": [
    "a = 6378137.0  \n",
    "e = 0.08181919084262149  \n",
    "\n",
    "phi = math.radians(52.5200) \n",
    "lam = math.radians(13.4050)  \n",
    "h = 100.0  \n",
    "\n",
    "X, Y, Z = geodetic_to_cartesian(phi, lam, h)\n",
    "print(\"Geodetic to Cartesian:\")\n",
    "print(\"X:\", X, \"Y:\", Y, \"Z:\", Z)\n",
    "\n",
    "phi, lam, h = cartesian_to_geodetic(X, Y, Z)\n",
    "print(\"\\nCartesian to Geodetic:\")\n",
    "print(\"Latitude (ϕ):\", math.degrees(phi), \"Height (h):\", h)\n"
   ]
  }
 ],
 "metadata": {
  "kernelspec": {
   "display_name": "Python 3",
   "language": "python",
   "name": "python3"
  },
  "language_info": {
   "codemirror_mode": {
    "name": "ipython",
    "version": 3
   },
   "file_extension": ".py",
   "mimetype": "text/x-python",
   "name": "python",
   "nbconvert_exporter": "python",
   "pygments_lexer": "ipython3",
   "version": "3.8.6"
  }
 },
 "nbformat": 4,
 "nbformat_minor": 2
}
